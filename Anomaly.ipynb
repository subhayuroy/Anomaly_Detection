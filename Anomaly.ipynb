{
  "nbformat": 4,
  "nbformat_minor": 0,
  "metadata": {
    "colab": {
      "name": "Anomaly.ipynb",
      "provenance": [],
      "authorship_tag": "ABX9TyOVwZ2rq1S1aV54R7VaKLEd",
      "include_colab_link": true
    },
    "kernelspec": {
      "name": "python3",
      "display_name": "Python 3"
    }
  },
  "cells": [
    {
      "cell_type": "markdown",
      "metadata": {
        "id": "view-in-github",
        "colab_type": "text"
      },
      "source": [
        "<a href=\"https://colab.research.google.com/github/subhayuroy/Anomaly_Detection/blob/main/Anomaly.ipynb\" target=\"_parent\"><img src=\"https://colab.research.google.com/assets/colab-badge.svg\" alt=\"Open In Colab\"/></a>"
      ]
    },
    {
      "cell_type": "markdown",
      "metadata": {
        "id": "twi9rIoZIx7y"
      },
      "source": [
        "#Anomaly Detection\n",
        "\n",
        "Anomaly detection can be treated as a statistical task as an outlier analysis. But if we develop a machine learning model, it can be automated and as usual, can save a lot of time.\n",
        "\n",
        "*There are so many use cases of anomaly detection. Credit card fraud detection, detection of faulty machines, or hardware systems detection based on their anomalous features, disease detection based on medical records are some good examples. There are many more use cases.*\n",
        "\n",
        "***And the use of anomaly detection will only grow.***"
      ]
    },
    {
      "cell_type": "markdown",
      "metadata": {
        "id": "DK2QOFIgJTnx"
      },
      "source": [
        "Importing the necessary packages"
      ]
    },
    {
      "cell_type": "code",
      "metadata": {
        "id": "-TkxiCt1IIVi"
      },
      "source": [
        "import pandas as pd \n",
        "import numpy as np\n",
        "import matplotlib.pyplot as plt"
      ],
      "execution_count": 6,
      "outputs": []
    },
    {
      "cell_type": "code",
      "metadata": {
        "id": "6I4wKPAsJcdf"
      },
      "source": [
        "df = pd.read_excel('ex8data1.xlsx', sheet_name='X', header=None)"
      ],
      "execution_count": 3,
      "outputs": []
    },
    {
      "cell_type": "code",
      "metadata": {
        "id": "eo6DZnEjJfuf",
        "outputId": "7c65c61e-18a8-450e-e424-351bfe971c54",
        "colab": {
          "base_uri": "https://localhost:8080/",
          "height": 195
        }
      },
      "source": [
        "df.head()"
      ],
      "execution_count": 4,
      "outputs": [
        {
          "output_type": "execute_result",
          "data": {
            "text/html": [
              "<div>\n",
              "<style scoped>\n",
              "    .dataframe tbody tr th:only-of-type {\n",
              "        vertical-align: middle;\n",
              "    }\n",
              "\n",
              "    .dataframe tbody tr th {\n",
              "        vertical-align: top;\n",
              "    }\n",
              "\n",
              "    .dataframe thead th {\n",
              "        text-align: right;\n",
              "    }\n",
              "</style>\n",
              "<table border=\"1\" class=\"dataframe\">\n",
              "  <thead>\n",
              "    <tr style=\"text-align: right;\">\n",
              "      <th></th>\n",
              "      <th>0</th>\n",
              "      <th>1</th>\n",
              "    </tr>\n",
              "  </thead>\n",
              "  <tbody>\n",
              "    <tr>\n",
              "      <th>0</th>\n",
              "      <td>13.046815</td>\n",
              "      <td>14.741152</td>\n",
              "    </tr>\n",
              "    <tr>\n",
              "      <th>1</th>\n",
              "      <td>13.408520</td>\n",
              "      <td>13.763270</td>\n",
              "    </tr>\n",
              "    <tr>\n",
              "      <th>2</th>\n",
              "      <td>14.195915</td>\n",
              "      <td>15.853181</td>\n",
              "    </tr>\n",
              "    <tr>\n",
              "      <th>3</th>\n",
              "      <td>14.914701</td>\n",
              "      <td>16.174260</td>\n",
              "    </tr>\n",
              "    <tr>\n",
              "      <th>4</th>\n",
              "      <td>13.576700</td>\n",
              "      <td>14.042849</td>\n",
              "    </tr>\n",
              "  </tbody>\n",
              "</table>\n",
              "</div>"
            ],
            "text/plain": [
              "           0          1\n",
              "0  13.046815  14.741152\n",
              "1  13.408520  13.763270\n",
              "2  14.195915  15.853181\n",
              "3  14.914701  16.174260\n",
              "4  13.576700  14.042849"
            ]
          },
          "metadata": {
            "tags": []
          },
          "execution_count": 4
        }
      ]
    },
    {
      "cell_type": "markdown",
      "metadata": {
        "id": "qHopkmrWJpCm"
      },
      "source": [
        "Let’s plot column 0 against column 1."
      ]
    },
    {
      "cell_type": "code",
      "metadata": {
        "id": "_ZJ6SrTqJp_y",
        "outputId": "2a05fa63-278d-43d7-916d-eb0531c45466",
        "colab": {
          "base_uri": "https://localhost:8080/",
          "height": 266
        }
      },
      "source": [
        "plt.figure()\n",
        "plt.scatter(df[0], df[1])\n",
        "plt.show()"
      ],
      "execution_count": 7,
      "outputs": [
        {
          "output_type": "display_data",
          "data": {
            "image/png": "[encoded data removed]",
            "text/plain": [
              "<Figure size 432x288 with 1 Axes>"
            ]
          },
          "metadata": {
            "tags": [],
            "needs_background": "light"
          }
        }
      ]
    },
    {
      "cell_type": "code",
      "metadata": {
        "id": "7xcPBJDFKlND"
      },
      "source": [
        "m = len(df)"
      ],
      "execution_count": 8,
      "outputs": []
    },
    {
      "cell_type": "markdown",
      "metadata": {
        "id": "Dm-ZT0dVKpU-"
      },
      "source": [
        "Calculate the mean for each feature. Here we have only two features: 0 and 1."
      ]
    },
    {
      "cell_type": "code",
      "metadata": {
        "id": "zXXES9GWKopq",
        "outputId": "40352c8e-8273-43d4-d129-d54fb04a400a",
        "colab": {
          "base_uri": "https://localhost:8080/",
          "height": 67
        }
      },
      "source": [
        "s = np.sum(df, axis=0)\n",
        "mu = s/m\n",
        "mu"
      ],
      "execution_count": 9,
      "outputs": [
        {
          "output_type": "execute_result",
          "data": {
            "text/plain": [
              "0    14.112226\n",
              "1    14.997711\n",
              "dtype: float64"
            ]
          },
          "metadata": {
            "tags": []
          },
          "execution_count": 9
        }
      ]
    },
    {
      "cell_type": "markdown",
      "metadata": {
        "id": "42KKShIpLMSI"
      },
      "source": [
        "Let’s calculate the variance:"
      ]
    },
    {
      "cell_type": "code",
      "metadata": {
        "id": "H3Qj5A_YLPTu",
        "outputId": "99d8f361-84fa-4ada-d6d3-bb28c7edce53",
        "colab": {
          "base_uri": "https://localhost:8080/",
          "height": 67
        }
      },
      "source": [
        "vr = np.sum((df - mu)**2, axis=0)\n",
        "variance = vr/m\n",
        "variance"
      ],
      "execution_count": 10,
      "outputs": [
        {
          "output_type": "execute_result",
          "data": {
            "text/plain": [
              "0    1.832631\n",
              "1    1.709745\n",
              "dtype: float64"
            ]
          },
          "metadata": {
            "tags": []
          },
          "execution_count": 10
        }
      ]
    },
    {
      "cell_type": "markdown",
      "metadata": {
        "id": "YNStxcaBLYRB"
      },
      "source": [
        "Now make it diagonal shaped."
      ]
    },
    {
      "cell_type": "code",
      "metadata": {
        "id": "8wPUKaKXLZO0",
        "outputId": "b33f1842-4032-49cf-8cbb-da28ea987257",
        "colab": {
          "base_uri": "https://localhost:8080/",
          "height": 50
        }
      },
      "source": [
        "var_dia = np.diag(variance)\n",
        "var_dia"
      ],
      "execution_count": 11,
      "outputs": [
        {
          "output_type": "execute_result",
          "data": {
            "text/plain": [
              "array([[1.83263141, 0.        ],\n",
              "       [0.        , 1.70974533]])"
            ]
          },
          "metadata": {
            "tags": []
          },
          "execution_count": 11
        }
      ]
    },
    {
      "cell_type": "markdown",
      "metadata": {
        "id": "2ztnKh_ALgtC"
      },
      "source": [
        "Calculate the probability:"
      ]
    },
    {
      "cell_type": "code",
      "metadata": {
        "id": "4ncqkeMALhvn",
        "outputId": "331928b3-178b-4b40-eb6f-bb288b906dc1",
        "colab": {
          "base_uri": "https://localhost:8080/",
          "height": 218
        }
      },
      "source": [
        "k = len(mu)\n",
        "X = df - mu\n",
        "p = 1/((2*np.pi)**(k/2)*(np.linalg.det(var_dia)**0.5))* np.exp(-0.5* np.sum(X @ np.linalg.pinv(var_dia) * X,axis=1))\n",
        "p"
      ],
      "execution_count": 12,
      "outputs": [
        {
          "output_type": "execute_result",
          "data": {
            "text/plain": [
              "0      6.470829e-02\n",
              "1      5.030417e-02\n",
              "2      7.245035e-02\n",
              "3      5.031575e-02\n",
              "4      6.368497e-02\n",
              "           ...     \n",
              "302    3.981340e-02\n",
              "303    5.455673e-08\n",
              "304    4.461721e-12\n",
              "305    6.107184e-05\n",
              "306    2.912867e-23\n",
              "Length: 307, dtype: float64"
            ]
          },
          "metadata": {
            "tags": []
          },
          "execution_count": 12
        }
      ]
    },
    {
      "cell_type": "markdown",
      "metadata": {
        "id": "C2L8zV-TL9Cn"
      },
      "source": [
        "The next step is to find out the threshold probability. If the probability is lower than the threshold probability, the example data is anomalous data. But we need to find out that threshold for our particular case."
      ]
    },
    {
      "cell_type": "markdown",
      "metadata": {
        "id": "KflZmnAML-dQ"
      },
      "source": [
        "For this step, we use cross-validation data and also the labels. In this dataset, we have the cross-validation data and also the labels in separate sheets."
      ]
    },
    {
      "cell_type": "code",
      "metadata": {
        "id": "Dx6dSBqDMDQx"
      },
      "source": [
        "cvx = pd.read_excel('ex8data1.xlsx', sheet_name='Xval', header=None)"
      ],
      "execution_count": 13,
      "outputs": []
    },
    {
      "cell_type": "code",
      "metadata": {
        "id": "ZXxjkoLTMJKe",
        "outputId": "4276697d-6160-4a5c-9f31-3956f9b1fb73",
        "colab": {
          "base_uri": "https://localhost:8080/",
          "height": 195
        }
      },
      "source": [
        "cvx.head()"
      ],
      "execution_count": 14,
      "outputs": [
        {
          "output_type": "execute_result",
          "data": {
            "text/html": [
              "<div>\n",
              "<style scoped>\n",
              "    .dataframe tbody tr th:only-of-type {\n",
              "        vertical-align: middle;\n",
              "    }\n",
              "\n",
              "    .dataframe tbody tr th {\n",
              "        vertical-align: top;\n",
              "    }\n",
              "\n",
              "    .dataframe thead th {\n",
              "        text-align: right;\n",
              "    }\n",
              "</style>\n",
              "<table border=\"1\" class=\"dataframe\">\n",
              "  <thead>\n",
              "    <tr style=\"text-align: right;\">\n",
              "      <th></th>\n",
              "      <th>0</th>\n",
              "      <th>1</th>\n",
              "    </tr>\n",
              "  </thead>\n",
              "  <tbody>\n",
              "    <tr>\n",
              "      <th>0</th>\n",
              "      <td>15.790260</td>\n",
              "      <td>14.921024</td>\n",
              "    </tr>\n",
              "    <tr>\n",
              "      <th>1</th>\n",
              "      <td>13.639619</td>\n",
              "      <td>15.329955</td>\n",
              "    </tr>\n",
              "    <tr>\n",
              "      <th>2</th>\n",
              "      <td>14.865899</td>\n",
              "      <td>16.473865</td>\n",
              "    </tr>\n",
              "    <tr>\n",
              "      <th>3</th>\n",
              "      <td>13.584676</td>\n",
              "      <td>13.989306</td>\n",
              "    </tr>\n",
              "    <tr>\n",
              "      <th>4</th>\n",
              "      <td>13.464042</td>\n",
              "      <td>15.635330</td>\n",
              "    </tr>\n",
              "  </tbody>\n",
              "</table>\n",
              "</div>"
            ],
            "text/plain": [
              "           0          1\n",
              "0  15.790260  14.921024\n",
              "1  13.639619  15.329955\n",
              "2  14.865899  16.473865\n",
              "3  13.584676  13.989306\n",
              "4  13.464042  15.635330"
            ]
          },
          "metadata": {
            "tags": []
          },
          "execution_count": 14
        }
      ]
    },
    {
      "cell_type": "markdown",
      "metadata": {
        "id": "7FvfTxMDMN1p"
      },
      "source": [
        "Here are the labels:"
      ]
    },
    {
      "cell_type": "code",
      "metadata": {
        "id": "rqHiQpbeMOow",
        "outputId": "d5ef4f1e-f202-4dd3-df8e-eb04d5681460",
        "colab": {
          "base_uri": "https://localhost:8080/",
          "height": 195
        }
      },
      "source": [
        "cvy = pd.read_excel('ex8data1.xlsx', sheet_name='y', header=None)\n",
        "cvy.head()"
      ],
      "execution_count": 15,
      "outputs": [
        {
          "output_type": "execute_result",
          "data": {
            "text/html": [
              "<div>\n",
              "<style scoped>\n",
              "    .dataframe tbody tr th:only-of-type {\n",
              "        vertical-align: middle;\n",
              "    }\n",
              "\n",
              "    .dataframe tbody tr th {\n",
              "        vertical-align: top;\n",
              "    }\n",
              "\n",
              "    .dataframe thead th {\n",
              "        text-align: right;\n",
              "    }\n",
              "</style>\n",
              "<table border=\"1\" class=\"dataframe\">\n",
              "  <thead>\n",
              "    <tr style=\"text-align: right;\">\n",
              "      <th></th>\n",
              "      <th>0</th>\n",
              "    </tr>\n",
              "  </thead>\n",
              "  <tbody>\n",
              "    <tr>\n",
              "      <th>0</th>\n",
              "      <td>0</td>\n",
              "    </tr>\n",
              "    <tr>\n",
              "      <th>1</th>\n",
              "      <td>0</td>\n",
              "    </tr>\n",
              "    <tr>\n",
              "      <th>2</th>\n",
              "      <td>0</td>\n",
              "    </tr>\n",
              "    <tr>\n",
              "      <th>3</th>\n",
              "      <td>0</td>\n",
              "    </tr>\n",
              "    <tr>\n",
              "      <th>4</th>\n",
              "      <td>0</td>\n",
              "    </tr>\n",
              "  </tbody>\n",
              "</table>\n",
              "</div>"
            ],
            "text/plain": [
              "   0\n",
              "0  0\n",
              "1  0\n",
              "2  0\n",
              "3  0\n",
              "4  0"
            ]
          },
          "metadata": {
            "tags": []
          },
          "execution_count": 15
        }
      ]
    },
    {
      "cell_type": "code",
      "metadata": {
        "id": "WedLWKrgMWNl",
        "outputId": "7a218f82-b0ca-43df-caa7-b326ae728743",
        "colab": {
          "base_uri": "https://localhost:8080/",
          "height": 1000
        }
      },
      "source": [
        "y = np.array(cvy)\n",
        "y"
      ],
      "execution_count": 17,
      "outputs": [
        {
          "output_type": "execute_result",
          "data": {
            "text/plain": [
              "array([[0],\n",
              "       [0],\n",
              "       [0],\n",
              "       [0],\n",
              "       [0],\n",
              "       [0],\n",
              "       [0],\n",
              "       [0],\n",
              "       [0],\n",
              "       [1],\n",
              "       [0],\n",
              "       [0],\n",
              "       [0],\n",
              "       [0],\n",
              "       [0],\n",
              "       [0],\n",
              "       [0],\n",
              "       [0],\n",
              "       [0],\n",
              "       [0],\n",
              "       [0],\n",
              "       [0],\n",
              "       [0],\n",
              "       [0],\n",
              "       [0],\n",
              "       [0],\n",
              "       [0],\n",
              "       [0],\n",
              "       [0],\n",
              "       [0],\n",
              "       [0],\n",
              "       [0],\n",
              "       [0],\n",
              "       [0],\n",
              "       [0],\n",
              "       [0],\n",
              "       [0],\n",
              "       [0],\n",
              "       [0],\n",
              "       [0],\n",
              "       [0],\n",
              "       [0],\n",
              "       [0],\n",
              "       [0],\n",
              "       [0],\n",
              "       [0],\n",
              "       [0],\n",
              "       [0],\n",
              "       [0],\n",
              "       [1],\n",
              "       [0],\n",
              "       [0],\n",
              "       [0],\n",
              "       [0],\n",
              "       [0],\n",
              "       [0],\n",
              "       [0],\n",
              "       [0],\n",
              "       [0],\n",
              "       [0],\n",
              "       [0],\n",
              "       [0],\n",
              "       [0],\n",
              "       [0],\n",
              "       [0],\n",
              "       [0],\n",
              "       [0],\n",
              "       [0],\n",
              "       [0],\n",
              "       [0],\n",
              "       [0],\n",
              "       [0],\n",
              "       [0],\n",
              "       [0],\n",
              "       [0],\n",
              "       [0],\n",
              "       [0],\n",
              "       [0],\n",
              "       [0],\n",
              "       [0],\n",
              "       [0],\n",
              "       [0],\n",
              "       [0],\n",
              "       [0],\n",
              "       [0],\n",
              "       [0],\n",
              "       [0],\n",
              "       [0],\n",
              "       [0],\n",
              "       [0],\n",
              "       [0],\n",
              "       [0],\n",
              "       [0],\n",
              "       [0],\n",
              "       [0],\n",
              "       [0],\n",
              "       [0],\n",
              "       [0],\n",
              "       [0],\n",
              "       [0],\n",
              "       [0],\n",
              "       [0],\n",
              "       [0],\n",
              "       [0],\n",
              "       [0],\n",
              "       [0],\n",
              "       [0],\n",
              "       [0],\n",
              "       [0],\n",
              "       [0],\n",
              "       [0],\n",
              "       [0],\n",
              "       [0],\n",
              "       [0],\n",
              "       [0],\n",
              "       [0],\n",
              "       [0],\n",
              "       [0],\n",
              "       [0],\n",
              "       [0],\n",
              "       [0],\n",
              "       [0],\n",
              "       [0],\n",
              "       [0],\n",
              "       [0],\n",
              "       [0],\n",
              "       [0],\n",
              "       [0],\n",
              "       [0],\n",
              "       [0],\n",
              "       [0],\n",
              "       [0],\n",
              "       [0],\n",
              "       [0],\n",
              "       [0],\n",
              "       [0],\n",
              "       [0],\n",
              "       [0],\n",
              "       [0],\n",
              "       [0],\n",
              "       [0],\n",
              "       [0],\n",
              "       [0],\n",
              "       [0],\n",
              "       [0],\n",
              "       [0],\n",
              "       [0],\n",
              "       [0],\n",
              "       [0],\n",
              "       [0],\n",
              "       [0],\n",
              "       [0],\n",
              "       [0],\n",
              "       [0],\n",
              "       [0],\n",
              "       [0],\n",
              "       [0],\n",
              "       [0],\n",
              "       [0],\n",
              "       [0],\n",
              "       [0],\n",
              "       [0],\n",
              "       [0],\n",
              "       [0],\n",
              "       [0],\n",
              "       [0],\n",
              "       [0],\n",
              "       [0],\n",
              "       [0],\n",
              "       [0],\n",
              "       [0],\n",
              "       [0],\n",
              "       [0],\n",
              "       [0],\n",
              "       [0],\n",
              "       [0],\n",
              "       [0],\n",
              "       [0],\n",
              "       [0],\n",
              "       [0],\n",
              "       [0],\n",
              "       [0],\n",
              "       [0],\n",
              "       [0],\n",
              "       [0],\n",
              "       [0],\n",
              "       [0],\n",
              "       [0],\n",
              "       [0],\n",
              "       [0],\n",
              "       [0],\n",
              "       [0],\n",
              "       [0],\n",
              "       [0],\n",
              "       [0],\n",
              "       [0],\n",
              "       [0],\n",
              "       [0],\n",
              "       [0],\n",
              "       [0],\n",
              "       [0],\n",
              "       [0],\n",
              "       [0],\n",
              "       [0],\n",
              "       [0],\n",
              "       [0],\n",
              "       [0],\n",
              "       [0],\n",
              "       [0],\n",
              "       [0],\n",
              "       [0],\n",
              "       [0],\n",
              "       [0],\n",
              "       [0],\n",
              "       [0],\n",
              "       [0],\n",
              "       [0],\n",
              "       [0],\n",
              "       [0],\n",
              "       [0],\n",
              "       [0],\n",
              "       [0],\n",
              "       [0],\n",
              "       [0],\n",
              "       [0],\n",
              "       [0],\n",
              "       [0],\n",
              "       [0],\n",
              "       [0],\n",
              "       [0],\n",
              "       [0],\n",
              "       [0],\n",
              "       [0],\n",
              "       [0],\n",
              "       [0],\n",
              "       [0],\n",
              "       [0],\n",
              "       [0],\n",
              "       [0],\n",
              "       [0],\n",
              "       [0],\n",
              "       [0],\n",
              "       [0],\n",
              "       [0],\n",
              "       [0],\n",
              "       [0],\n",
              "       [0],\n",
              "       [0],\n",
              "       [0],\n",
              "       [0],\n",
              "       [0],\n",
              "       [0],\n",
              "       [0],\n",
              "       [0],\n",
              "       [0],\n",
              "       [0],\n",
              "       [0],\n",
              "       [0],\n",
              "       [0],\n",
              "       [0],\n",
              "       [0],\n",
              "       [0],\n",
              "       [0],\n",
              "       [0],\n",
              "       [0],\n",
              "       [0],\n",
              "       [0],\n",
              "       [0],\n",
              "       [0],\n",
              "       [0],\n",
              "       [0],\n",
              "       [0],\n",
              "       [0],\n",
              "       [0],\n",
              "       [0],\n",
              "       [0],\n",
              "       [0],\n",
              "       [0],\n",
              "       [0],\n",
              "       [0],\n",
              "       [0],\n",
              "       [0],\n",
              "       [0],\n",
              "       [0],\n",
              "       [0],\n",
              "       [0],\n",
              "       [0],\n",
              "       [0],\n",
              "       [0],\n",
              "       [0],\n",
              "       [0],\n",
              "       [0],\n",
              "       [0],\n",
              "       [0],\n",
              "       [0],\n",
              "       [0],\n",
              "       [0],\n",
              "       [0],\n",
              "       [0],\n",
              "       [0],\n",
              "       [1],\n",
              "       [1],\n",
              "       [1],\n",
              "       [1],\n",
              "       [1],\n",
              "       [1],\n",
              "       [1]])"
            ]
          },
          "metadata": {
            "tags": []
          },
          "execution_count": 17
        }
      ]
    },
    {
      "cell_type": "markdown",
      "metadata": {
        "id": "gq2OKKE6MgAH"
      },
      "source": [
        "Here, the value of ‘y’ 0 suggests that that’s a normal example and the y value of 1indicates that, it is an anomalous example."
      ]
    },
    {
      "cell_type": "code",
      "metadata": {
        "id": "ELMrW-PDMjhj",
        "outputId": "656efcef-f8f9-42e2-e773-c34dc3fc5a33",
        "colab": {
          "base_uri": "https://localhost:8080/",
          "height": 168
        }
      },
      "source": [
        "p.describe()"
      ],
      "execution_count": 18,
      "outputs": [
        {
          "output_type": "execute_result",
          "data": {
            "text/plain": [
              "count    3.070000e+02\n",
              "mean     5.905331e-02\n",
              "std      2.324461e-02\n",
              "min      1.181209e-23\n",
              "25%      4.361075e-02\n",
              "50%      6.510144e-02\n",
              "75%      7.849532e-02\n",
              "max      8.986095e-02\n",
              "dtype: float64"
            ]
          },
          "metadata": {
            "tags": []
          },
          "execution_count": 18
        }
      ]
    },
    {
      "cell_type": "markdown",
      "metadata": {
        "id": "pVsu07b9NZu6"
      },
      "source": [
        "Define a function to calculate the true positives, false positives, and false negatives:"
      ]
    },
    {
      "cell_type": "code",
      "metadata": {
        "id": "Shy6IiHnNbni"
      },
      "source": [
        "def tpfpfn(ep):\n",
        "    tp, fp, fn = 0, 0, 0\n",
        "    for i in range(len(y)):\n",
        "        if p[i] <= ep and y[i][0] == 1:\n",
        "            tp += 1\n",
        "        elif p[i] <= ep and y[i][0] == 0:\n",
        "            fp += 1\n",
        "        elif p[i] > ep and y[i][0] == 1:\n",
        "            fn += 1\n",
        "    return tp, fp, fn"
      ],
      "execution_count": 19,
      "outputs": []
    },
    {
      "cell_type": "markdown",
      "metadata": {
        "id": "Vks6T6dYNh-W"
      },
      "source": [
        "Make a list of the probabilities that are lower than or equal to the mean probability."
      ]
    },
    {
      "cell_type": "code",
      "metadata": {
        "id": "t6x85GmMNjH_"
      },
      "source": [
        "eps = [i for i in p if i <= p.mean()]"
      ],
      "execution_count": 20,
      "outputs": []
    },
    {
      "cell_type": "code",
      "metadata": {
        "id": "hzrHKAlKNoTB",
        "outputId": "1265ece2-95ae-47c1-e2b3-00189915f4ce",
        "colab": {
          "base_uri": "https://localhost:8080/",
          "height": 34
        }
      },
      "source": [
        "len(eps)"
      ],
      "execution_count": 21,
      "outputs": [
        {
          "output_type": "execute_result",
          "data": {
            "text/plain": [
              "133"
            ]
          },
          "metadata": {
            "tags": []
          },
          "execution_count": 21
        }
      ]
    },
    {
      "cell_type": "markdown",
      "metadata": {
        "id": "6aFryPNeNtOq"
      },
      "source": [
        "Define a function to calculate f1 score as per the formula we discussed before:"
      ]
    },
    {
      "cell_type": "code",
      "metadata": {
        "id": "lDXoHP3LNuLo"
      },
      "source": [
        "def f1(ep):\n",
        "    tp, fp, fn = tpfpfn(ep)\n",
        "    prec = tp/(tp + fp)\n",
        "    rec = tp/(tp + fn)\n",
        "    f1 = 2*prec*rec/(prec + rec)\n",
        "    return f1"
      ],
      "execution_count": 22,
      "outputs": []
    },
    {
      "cell_type": "markdown",
      "metadata": {
        "id": "SXEQX6eIOJ4U"
      },
      "source": [
        "Now calculate the f1 score for all the epsilon or the range of probability values we selected before."
      ]
    },
    {
      "cell_type": "code",
      "metadata": {
        "id": "2xFjUMB3OKuV"
      },
      "source": [
        "f = []\n",
        "for i in eps:\n",
        "    f.append(f1(i))"
      ],
      "execution_count": 23,
      "outputs": []
    },
    {
      "cell_type": "code",
      "metadata": {
        "id": "cvrptchPOPa5",
        "outputId": "c8e6381a-fb60-401b-98df-fa2bca496a28",
        "colab": {
          "base_uri": "https://localhost:8080/",
          "height": 1000
        }
      },
      "source": [
        "f"
      ],
      "execution_count": 24,
      "outputs": [
        {
          "output_type": "execute_result",
          "data": {
            "text/plain": [
              "[0.14285714285714285,\n",
              " 0.14035087719298248,\n",
              " 0.1927710843373494,\n",
              " 0.1568627450980392,\n",
              " 0.208955223880597,\n",
              " 0.41379310344827586,\n",
              " 0.15517241379310345,\n",
              " 0.28571428571428575,\n",
              " 0.19444444444444445,\n",
              " 0.5217391304347826,\n",
              " 0.19718309859154928,\n",
              " 0.19753086419753085,\n",
              " 0.29268292682926833,\n",
              " 0.14545454545454545,\n",
              " 0.36363636363636365,\n",
              " 0.16842105263157894,\n",
              " 0.1935483870967742,\n",
              " 0.1276595744680851,\n",
              " 0.21818181818181817,\n",
              " 0.2153846153846154,\n",
              " 0.31578947368421056,\n",
              " 0.17721518987341772,\n",
              " 0.19672131147540986,\n",
              " 0.20689655172413793,\n",
              " 0.30000000000000004,\n",
              " 0.5714285714285715,\n",
              " 0.4444444444444444,\n",
              " 0.16494845360824742,\n",
              " 0.24,\n",
              " 0.14414414414414414,\n",
              " 0.14634146341463414,\n",
              " 0.15841584158415842,\n",
              " 0.19178082191780824,\n",
              " 0.2,\n",
              " 0.24489795918367346,\n",
              " 0.1839080459770115,\n",
              " 0.2121212121212121,\n",
              " 0.140625,\n",
              " 0.14285714285714288,\n",
              " 0.14814814814814817,\n",
              " 0.1475409836065574,\n",
              " 0.2222222222222222,\n",
              " 0.27272727272727276,\n",
              " 0.5454545454545455,\n",
              " 0.26086956521739135,\n",
              " 0.3529411764705882,\n",
              " 0.6,\n",
              " 0.21052631578947367,\n",
              " 0.18604651162790697,\n",
              " 0.37500000000000006,\n",
              " 0.13138686131386862,\n",
              " 0.18918918918918923,\n",
              " 0.15126050420168066,\n",
              " 0.26666666666666666,\n",
              " 0.1904761904761905,\n",
              " 0.13740458015267176,\n",
              " 0.20338983050847456,\n",
              " 0.15094339622641506,\n",
              " 0.46153846153846156,\n",
              " 0.15238095238095237,\n",
              " 0.3870967741935484,\n",
              " 0.13636363636363635,\n",
              " 0.7058823529411765,\n",
              " 0.1267605633802817,\n",
              " 0.16161616161616163,\n",
              " 0.25,\n",
              " 0.16,\n",
              " 0.13235294117647056,\n",
              " 0.14876033057851243,\n",
              " 0.23529411764705882,\n",
              " 0.16666666666666666,\n",
              " 0.18823529411764706,\n",
              " 0.3428571428571429,\n",
              " 0.75,\n",
              " 0.18666666666666665,\n",
              " 0.14159292035398233,\n",
              " 0.15,\n",
              " 0.2058823529411765,\n",
              " 0.1818181818181818,\n",
              " 0.1391304347826087,\n",
              " 0.1702127659574468,\n",
              " 0.21428571428571427,\n",
              " 0.1285714285714286,\n",
              " 0.17204301075268819,\n",
              " 0.631578947368421,\n",
              " 0.19047619047619047,\n",
              " 0.15533980582524273,\n",
              " 0.3243243243243243,\n",
              " 0.15384615384615383,\n",
              " 0.13333333333333333,\n",
              " 0.1794871794871795,\n",
              " 0.17391304347826086,\n",
              " 0.42857142857142855,\n",
              " 0.25531914893617025,\n",
              " 0.17582417582417584,\n",
              " 0.4,\n",
              " 0.1343283582089552,\n",
              " 0.16326530612244897,\n",
              " 0.14678899082568808,\n",
              " 0.27906976744186046,\n",
              " 0.13953488372093023,\n",
              " 0.15254237288135594,\n",
              " 0.1818181818181818,\n",
              " 0.2028985507246377,\n",
              " 0.5,\n",
              " 0.13846153846153847,\n",
              " 0.17977528089887643,\n",
              " 0.6666666666666666,\n",
              " 0.23076923076923078,\n",
              " 0.15384615384615385,\n",
              " 0.19999999999999998,\n",
              " 0.14173228346456693,\n",
              " 0.144,\n",
              " 0.14953271028037382,\n",
              " 0.1951219512195122,\n",
              " 0.13533834586466167,\n",
              " 0.14516129032258066,\n",
              " 0.17777777777777778,\n",
              " 0.30769230769230765,\n",
              " 0.1842105263157895,\n",
              " 0.1875,\n",
              " 0.12949640287769784,\n",
              " 0.3333333333333333,\n",
              " 0.22641509433962262,\n",
              " 0.13043478260869565,\n",
              " 0.4800000000000001,\n",
              " 0.7142857142857143,\n",
              " 0.19999999999999998,\n",
              " 0.2,\n",
              " 0.6153846153846153,\n",
              " 0.5,\n",
              " 0.8,\n",
              " 0.3636363636363636]"
            ]
          },
          "metadata": {
            "tags": []
          },
          "execution_count": 24
        }
      ]
    },
    {
      "cell_type": "markdown",
      "metadata": {
        "id": "l4XHNYx4OUWe"
      },
      "source": [
        "This is part of the f score list. The length should be 133."
      ]
    },
    {
      "cell_type": "markdown",
      "metadata": {
        "id": "Vv6aKtXFOVSs"
      },
      "source": [
        "The f scores are usually ranged between 0 and 1 where 1 is the perfect f score. The higher the f1 score the better. So, we need to take the highest f score from the list of ‘f’ scores we just calculated.\n",
        "\n",
        "**Now, use the ‘argmax’ function to determine the index of the maximum f score value.**"
      ]
    },
    {
      "cell_type": "code",
      "metadata": {
        "id": "B17m1NTdOcO9",
        "outputId": "d04d67d7-e968-4e7e-bb9c-6127a675ea01",
        "colab": {
          "base_uri": "https://localhost:8080/",
          "height": 34
        }
      },
      "source": [
        "np.array(f).argmax()"
      ],
      "execution_count": 25,
      "outputs": [
        {
          "output_type": "execute_result",
          "data": {
            "text/plain": [
              "131"
            ]
          },
          "metadata": {
            "tags": []
          },
          "execution_count": 25
        }
      ]
    },
    {
      "cell_type": "markdown",
      "metadata": {
        "id": "lanHxSbIOiOh"
      },
      "source": [
        "And now use this index to get the threshold probability."
      ]
    },
    {
      "cell_type": "code",
      "metadata": {
        "id": "Av2ix3wqOjSi",
        "outputId": "cdfdc50e-971f-4bbd-ab42-670c23f18a11",
        "colab": {
          "base_uri": "https://localhost:8080/",
          "height": 34
        }
      },
      "source": [
        "e = eps[131]\n",
        "e"
      ],
      "execution_count": 26,
      "outputs": [
        {
          "output_type": "execute_result",
          "data": {
            "text/plain": [
              "6.107184445968581e-05"
            ]
          },
          "metadata": {
            "tags": []
          },
          "execution_count": 26
        }
      ]
    },
    {
      "cell_type": "markdown",
      "metadata": {
        "id": "au6LPT2qO5g8"
      },
      "source": [
        "###Find out the Anomalous Examples\n",
        "We have the threshold probability. We can find out the labels of our training data from it."
      ]
    },
    {
      "cell_type": "markdown",
      "metadata": {
        "id": "uEm3IDRRO8rW"
      },
      "source": [
        "If the probability value is lower than or equal to this threshold value, the data is anomalous and otherwise, normal. We will denote the normal and anomalous data as 0and 1 respectively,"
      ]
    },
    {
      "cell_type": "code",
      "metadata": {
        "id": "RyuSyRhvO-9O"
      },
      "source": [
        "label = []\n",
        "for i in range(len(df)):\n",
        "    if p[i] <= e:\n",
        "        label.append(1)\n",
        "    else:\n",
        "        label.append(0)"
      ],
      "execution_count": 27,
      "outputs": []
    },
    {
      "cell_type": "code",
      "metadata": {
        "id": "cuV2CXXbPCsP",
        "outputId": "1e738ea2-6550-4647-b375-f8446363a531",
        "colab": {
          "base_uri": "https://localhost:8080/",
          "height": 1000
        }
      },
      "source": [
        "label"
      ],
      "execution_count": 28,
      "outputs": [
        {
          "output_type": "execute_result",
          "data": {
            "text/plain": [
              "[0,\n",
              " 0,\n",
              " 0,\n",
              " 0,\n",
              " 0,\n",
              " 0,\n",
              " 0,\n",
              " 0,\n",
              " 0,\n",
              " 0,\n",
              " 0,\n",
              " 0,\n",
              " 0,\n",
              " 0,\n",
              " 0,\n",
              " 0,\n",
              " 0,\n",
              " 0,\n",
              " 0,\n",
              " 0,\n",
              " 0,\n",
              " 0,\n",
              " 0,\n",
              " 0,\n",
              " 0,\n",
              " 0,\n",
              " 0,\n",
              " 0,\n",
              " 0,\n",
              " 0,\n",
              " 0,\n",
              " 0,\n",
              " 0,\n",
              " 0,\n",
              " 0,\n",
              " 0,\n",
              " 0,\n",
              " 0,\n",
              " 0,\n",
              " 0,\n",
              " 0,\n",
              " 0,\n",
              " 0,\n",
              " 0,\n",
              " 0,\n",
              " 0,\n",
              " 0,\n",
              " 0,\n",
              " 0,\n",
              " 0,\n",
              " 0,\n",
              " 0,\n",
              " 0,\n",
              " 0,\n",
              " 0,\n",
              " 0,\n",
              " 0,\n",
              " 0,\n",
              " 0,\n",
              " 0,\n",
              " 0,\n",
              " 0,\n",
              " 0,\n",
              " 0,\n",
              " 0,\n",
              " 0,\n",
              " 0,\n",
              " 0,\n",
              " 0,\n",
              " 0,\n",
              " 0,\n",
              " 0,\n",
              " 0,\n",
              " 0,\n",
              " 0,\n",
              " 0,\n",
              " 0,\n",
              " 0,\n",
              " 0,\n",
              " 0,\n",
              " 0,\n",
              " 0,\n",
              " 0,\n",
              " 0,\n",
              " 0,\n",
              " 0,\n",
              " 0,\n",
              " 0,\n",
              " 0,\n",
              " 0,\n",
              " 0,\n",
              " 0,\n",
              " 0,\n",
              " 0,\n",
              " 0,\n",
              " 0,\n",
              " 0,\n",
              " 0,\n",
              " 0,\n",
              " 0,\n",
              " 0,\n",
              " 0,\n",
              " 0,\n",
              " 0,\n",
              " 0,\n",
              " 0,\n",
              " 0,\n",
              " 0,\n",
              " 0,\n",
              " 0,\n",
              " 0,\n",
              " 0,\n",
              " 0,\n",
              " 0,\n",
              " 0,\n",
              " 0,\n",
              " 0,\n",
              " 0,\n",
              " 0,\n",
              " 0,\n",
              " 0,\n",
              " 0,\n",
              " 0,\n",
              " 0,\n",
              " 0,\n",
              " 0,\n",
              " 0,\n",
              " 0,\n",
              " 0,\n",
              " 0,\n",
              " 0,\n",
              " 0,\n",
              " 0,\n",
              " 0,\n",
              " 0,\n",
              " 0,\n",
              " 0,\n",
              " 0,\n",
              " 0,\n",
              " 0,\n",
              " 0,\n",
              " 0,\n",
              " 0,\n",
              " 0,\n",
              " 0,\n",
              " 0,\n",
              " 0,\n",
              " 0,\n",
              " 0,\n",
              " 0,\n",
              " 0,\n",
              " 0,\n",
              " 0,\n",
              " 0,\n",
              " 0,\n",
              " 0,\n",
              " 0,\n",
              " 0,\n",
              " 0,\n",
              " 0,\n",
              " 0,\n",
              " 0,\n",
              " 0,\n",
              " 0,\n",
              " 0,\n",
              " 0,\n",
              " 0,\n",
              " 0,\n",
              " 0,\n",
              " 0,\n",
              " 0,\n",
              " 0,\n",
              " 0,\n",
              " 0,\n",
              " 0,\n",
              " 0,\n",
              " 0,\n",
              " 0,\n",
              " 0,\n",
              " 0,\n",
              " 0,\n",
              " 0,\n",
              " 0,\n",
              " 0,\n",
              " 0,\n",
              " 0,\n",
              " 0,\n",
              " 0,\n",
              " 0,\n",
              " 0,\n",
              " 0,\n",
              " 0,\n",
              " 0,\n",
              " 0,\n",
              " 0,\n",
              " 0,\n",
              " 0,\n",
              " 0,\n",
              " 0,\n",
              " 0,\n",
              " 0,\n",
              " 0,\n",
              " 0,\n",
              " 0,\n",
              " 0,\n",
              " 0,\n",
              " 0,\n",
              " 0,\n",
              " 0,\n",
              " 0,\n",
              " 0,\n",
              " 0,\n",
              " 0,\n",
              " 0,\n",
              " 0,\n",
              " 0,\n",
              " 0,\n",
              " 0,\n",
              " 0,\n",
              " 0,\n",
              " 0,\n",
              " 0,\n",
              " 0,\n",
              " 0,\n",
              " 0,\n",
              " 0,\n",
              " 0,\n",
              " 0,\n",
              " 0,\n",
              " 0,\n",
              " 0,\n",
              " 0,\n",
              " 0,\n",
              " 0,\n",
              " 0,\n",
              " 0,\n",
              " 0,\n",
              " 0,\n",
              " 0,\n",
              " 0,\n",
              " 0,\n",
              " 0,\n",
              " 0,\n",
              " 0,\n",
              " 0,\n",
              " 0,\n",
              " 0,\n",
              " 0,\n",
              " 0,\n",
              " 0,\n",
              " 0,\n",
              " 0,\n",
              " 0,\n",
              " 0,\n",
              " 0,\n",
              " 0,\n",
              " 0,\n",
              " 0,\n",
              " 0,\n",
              " 0,\n",
              " 0,\n",
              " 0,\n",
              " 0,\n",
              " 0,\n",
              " 0,\n",
              " 0,\n",
              " 0,\n",
              " 0,\n",
              " 0,\n",
              " 0,\n",
              " 0,\n",
              " 0,\n",
              " 0,\n",
              " 0,\n",
              " 0,\n",
              " 0,\n",
              " 0,\n",
              " 0,\n",
              " 0,\n",
              " 0,\n",
              " 0,\n",
              " 0,\n",
              " 0,\n",
              " 0,\n",
              " 0,\n",
              " 0,\n",
              " 0,\n",
              " 0,\n",
              " 0,\n",
              " 0,\n",
              " 0,\n",
              " 0,\n",
              " 0,\n",
              " 0,\n",
              " 0,\n",
              " 0,\n",
              " 0,\n",
              " 0,\n",
              " 0,\n",
              " 0,\n",
              " 1,\n",
              " 1,\n",
              " 0,\n",
              " 1,\n",
              " 1,\n",
              " 1,\n",
              " 1]"
            ]
          },
          "metadata": {
            "tags": []
          },
          "execution_count": 28
        }
      ]
    },
    {
      "cell_type": "markdown",
      "metadata": {
        "id": "EmZCqGvcPJiX"
      },
      "source": [
        "This is part of the label list."
      ]
    },
    {
      "cell_type": "markdown",
      "metadata": {
        "id": "-v0syuIgPKlS"
      },
      "source": [
        "Adding this calculated labels in the training dataset above:"
      ]
    },
    {
      "cell_type": "code",
      "metadata": {
        "id": "k9-w5Ex5PPPU"
      },
      "source": [
        "df['label'] = np.array(label)"
      ],
      "execution_count": 29,
      "outputs": []
    },
    {
      "cell_type": "code",
      "metadata": {
        "id": "SkwqSmIPPSzX",
        "outputId": "ffa98a58-4ec5-42d6-ee85-3379ebcb3f13",
        "colab": {
          "base_uri": "https://localhost:8080/",
          "height": 195
        }
      },
      "source": [
        "df.head()"
      ],
      "execution_count": 30,
      "outputs": [
        {
          "output_type": "execute_result",
          "data": {
            "text/html": [
              "<div>\n",
              "<style scoped>\n",
              "    .dataframe tbody tr th:only-of-type {\n",
              "        vertical-align: middle;\n",
              "    }\n",
              "\n",
              "    .dataframe tbody tr th {\n",
              "        vertical-align: top;\n",
              "    }\n",
              "\n",
              "    .dataframe thead th {\n",
              "        text-align: right;\n",
              "    }\n",
              "</style>\n",
              "<table border=\"1\" class=\"dataframe\">\n",
              "  <thead>\n",
              "    <tr style=\"text-align: right;\">\n",
              "      <th></th>\n",
              "      <th>0</th>\n",
              "      <th>1</th>\n",
              "      <th>label</th>\n",
              "    </tr>\n",
              "  </thead>\n",
              "  <tbody>\n",
              "    <tr>\n",
              "      <th>0</th>\n",
              "      <td>13.046815</td>\n",
              "      <td>14.741152</td>\n",
              "      <td>0</td>\n",
              "    </tr>\n",
              "    <tr>\n",
              "      <th>1</th>\n",
              "      <td>13.408520</td>\n",
              "      <td>13.763270</td>\n",
              "      <td>0</td>\n",
              "    </tr>\n",
              "    <tr>\n",
              "      <th>2</th>\n",
              "      <td>14.195915</td>\n",
              "      <td>15.853181</td>\n",
              "      <td>0</td>\n",
              "    </tr>\n",
              "    <tr>\n",
              "      <th>3</th>\n",
              "      <td>14.914701</td>\n",
              "      <td>16.174260</td>\n",
              "      <td>0</td>\n",
              "    </tr>\n",
              "    <tr>\n",
              "      <th>4</th>\n",
              "      <td>13.576700</td>\n",
              "      <td>14.042849</td>\n",
              "      <td>0</td>\n",
              "    </tr>\n",
              "  </tbody>\n",
              "</table>\n",
              "</div>"
            ],
            "text/plain": [
              "           0          1  label\n",
              "0  13.046815  14.741152      0\n",
              "1  13.408520  13.763270      0\n",
              "2  14.195915  15.853181      0\n",
              "3  14.914701  16.174260      0\n",
              "4  13.576700  14.042849      0"
            ]
          },
          "metadata": {
            "tags": []
          },
          "execution_count": 30
        }
      ]
    },
    {
      "cell_type": "code",
      "metadata": {
        "id": "hMvWwMViPmJR"
      },
      "source": [
        "import seaborn as sns"
      ],
      "execution_count": 33,
      "outputs": []
    }
  ]
}